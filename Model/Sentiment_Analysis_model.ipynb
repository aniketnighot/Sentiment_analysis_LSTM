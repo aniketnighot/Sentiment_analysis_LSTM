{
  "nbformat": 4,
  "nbformat_minor": 0,
  "metadata": {
    "colab": {
      "provenance": [],
      "gpuType": "T4",
      "machine_shape": "hm"
    },
    "kernelspec": {
      "name": "python3",
      "display_name": "Python 3"
    },
    "language_info": {
      "name": "python"
    },
    "accelerator": "GPU"
  },
  "cells": [
    {
      "cell_type": "markdown",
      "source": [
        "# Project Title: Sentiment Analysis on IMDB Movie Reviews\n",
        "\n",
        "\"\"\"\n",
        "## Objective:\n",
        "Build a deep learning model to classify IMDB movie reviews as positive or negative.\n",
        "\n",
        "## Dataset:\n",
        "- IMDB Dataset of 50,000 movie reviews\n",
        "- Evenly split between positive (25,000) and negative (25,000) reviews\n",
        "- Each review is labeled as either 'positive' or 'negative'\n",
        "\"\"\""
      ],
      "metadata": {
        "id": "Dib0WXIXfjwj"
      }
    },
    {
      "cell_type": "code",
      "execution_count": null,
      "metadata": {
        "colab": {
          "base_uri": "https://localhost:8080/"
        },
        "id": "EHkFi-VLIWn4",
        "outputId": "605399eb-ca12-4143-869f-f080e0a317ef"
      },
      "outputs": [
        {
          "output_type": "stream",
          "name": "stdout",
          "text": [
            "Mounted at /content/drive\n"
          ]
        }
      ],
      "source": [
        "from google.colab import drive\n",
        "drive.mount('/content/drive')"
      ]
    },
    {
      "cell_type": "markdown",
      "source": [
        "**Import Libraries**"
      ],
      "metadata": {
        "id": "eXyEcum-Jh9g"
      }
    },
    {
      "cell_type": "code",
      "source": [
        "# Importing necessary libraries for data manipulation\n",
        "import pandas as pd\n",
        "import numpy as np\n",
        "import torch\n",
        "\n",
        "# Check if CUDA is available\n",
        "device = torch.device('cuda' if torch.cuda.is_available() else 'cpu')\n",
        "print(f\"Using device: {device}\")"
      ],
      "metadata": {
        "id": "fUIIBuVhJMcQ",
        "colab": {
          "base_uri": "https://localhost:8080/"
        },
        "outputId": "a8128767-d2b1-4431-d8c1-d5398b48f6e6"
      },
      "execution_count": null,
      "outputs": [
        {
          "output_type": "stream",
          "name": "stdout",
          "text": [
            "Using device: cuda\n"
          ]
        }
      ]
    },
    {
      "cell_type": "markdown",
      "source": [
        "**Get Data**"
      ],
      "metadata": {
        "id": "G6_qk3FJJmCk"
      }
    },
    {
      "cell_type": "code",
      "source": [
        "data=pd.read_csv(\"/content/drive/MyDrive/Projects/Sentiment_Analysis/data/IMDB Dataset.csv\")"
      ],
      "metadata": {
        "id": "A38QD4PlIcu6"
      },
      "execution_count": null,
      "outputs": []
    },
    {
      "cell_type": "markdown",
      "source": [
        "**EDA**"
      ],
      "metadata": {
        "id": "9uOpXP7LgkrI"
      }
    },
    {
      "cell_type": "code",
      "source": [
        "from matplotlib import pyplot as plt\n",
        "import seaborn as sns\n",
        "\n",
        "# Review length analysis\n",
        "review_lengths = data['review'].apply(lambda x: len(x.split()))\n",
        "plt.figure(figsize=(10,6))\n",
        "sns.histplot(review_lengths, bins=50)\n",
        "plt.title('Distribution of Review Lengths (in words)')\n",
        "plt.xlabel('Review Length')\n",
        "plt.ylabel('Count')\n",
        "plt.show()\n",
        "\n",
        "print(f\"Average review length: {review_lengths.mean():.0f} words\")\n",
        "print(f\"Maximum review length: {review_lengths.max()} words\")\n",
        "print(f\"Minimum review length: {review_lengths.min()} words\")\n"
      ],
      "metadata": {
        "colab": {
          "base_uri": "https://localhost:8080/",
          "height": 588
        },
        "id": "U6CFHHoRgZia",
        "outputId": "99826df2-4979-485d-a0bc-ac8cb221bc0f"
      },
      "execution_count": null,
      "outputs": [
        {
          "output_type": "display_data",
          "data": {
            "text/plain": [
              "<Figure size 1000x600 with 1 Axes>"
            ],
            "image/png": "[encoded data removed]"
          },
          "metadata": {}
        },
        {
          "output_type": "stream",
          "name": "stdout",
          "text": [
            "Average review length: 231 words\n",
            "Maximum review length: 2470 words\n",
            "Minimum review length: 4 words\n"
          ]
        }
      ]
    },
    {
      "cell_type": "code",
      "source": [
        "data.sentiment.value_counts()"
      ],
      "metadata": {
        "colab": {
          "base_uri": "https://localhost:8080/",
          "height": 178
        },
        "id": "Zqd3THmJJai5",
        "outputId": "a7d7c0b5-59d3-4f36-e675-d504a037e008"
      },
      "execution_count": null,
      "outputs": [
        {
          "output_type": "execute_result",
          "data": {
            "text/plain": [
              "sentiment\n",
              "positive    25000\n",
              "negative    25000\n",
              "Name: count, dtype: int64"
            ],
            "text/html": [
              "<div>\n",
              "<style scoped>\n",
              "    .dataframe tbody tr th:only-of-type {\n",
              "        vertical-align: middle;\n",
              "    }\n",
              "\n",
              "    .dataframe tbody tr th {\n",
              "        vertical-align: top;\n",
              "    }\n",
              "\n",
              "    .dataframe thead th {\n",
              "        text-align: right;\n",
              "    }\n",
              "</style>\n",
              "<table border=\"1\" class=\"dataframe\">\n",
              "  <thead>\n",
              "    <tr style=\"text-align: right;\">\n",
              "      <th></th>\n",
              "      <th>count</th>\n",
              "    </tr>\n",
              "    <tr>\n",
              "      <th>sentiment</th>\n",
              "      <th></th>\n",
              "    </tr>\n",
              "  </thead>\n",
              "  <tbody>\n",
              "    <tr>\n",
              "      <th>positive</th>\n",
              "      <td>25000</td>\n",
              "    </tr>\n",
              "    <tr>\n",
              "      <th>negative</th>\n",
              "      <td>25000</td>\n",
              "    </tr>\n",
              "  </tbody>\n",
              "</table>\n",
              "</div><br><label><b>dtype:</b> int64</label>"
            ]
          },
          "metadata": {},
          "execution_count": 7
        }
      ]
    },
    {
      "cell_type": "markdown",
      "source": [
        "**Data Preprocessing**\n",
        "\n",
        "The preprocessing pipeline:\n",
        "1. Normalizes text by converting to lowercase\n",
        "2. Removes HTML tags that might be present in reviews\n",
        "3. Cleans special characters and URLs\n",
        "4. Breaks text into individual words (tokens)\n",
        "5. Removes common stopwords that don't carry much meaning\n",
        "6. Reduces words to their root form (stemming) to handle different word forms"
      ],
      "metadata": {
        "id": "AJMq2_eYKsMC"
      }
    },
    {
      "cell_type": "code",
      "source": [
        "import re\n",
        "import nltk\n",
        "from nltk.corpus import stopwords\n",
        "from nltk.stem import PorterStemmer\n",
        "nltk.download('punkt_tab')\n",
        "nltk.download('stopwords')"
      ],
      "metadata": {
        "colab": {
          "base_uri": "https://localhost:8080/"
        },
        "id": "Z_m9L7S454ic",
        "outputId": "0fdde9b5-eff0-4c9b-f569-37b51d7e9984"
      },
      "execution_count": null,
      "outputs": [
        {
          "output_type": "stream",
          "name": "stderr",
          "text": [
            "[nltk_data] Downloading package punkt_tab to /root/nltk_data...\n",
            "[nltk_data]   Unzipping tokenizers/punkt_tab.zip.\n",
            "[nltk_data] Downloading package stopwords to /root/nltk_data...\n",
            "[nltk_data]   Unzipping corpora/stopwords.zip.\n"
          ]
        },
        {
          "output_type": "execute_result",
          "data": {
            "text/plain": [
              "True"
            ]
          },
          "metadata": {},
          "execution_count": 8
        }
      ]
    },
    {
      "cell_type": "code",
      "source": [
        "# Text preprocessing function\n",
        "def preprocess_text(text):\n",
        "    # Convert to lowercase\n",
        "    text = text.lower()\n",
        "    # Remove HTML tags\n",
        "    text = re.sub(r'<.*?>', '', text)\n",
        "    # Remove special characters and numbers\n",
        "    text = re.sub(r'[^a-zA-Z\\s]', '', text)\n",
        "    # Tokenize\n",
        "    words = nltk.word_tokenize(text)\n",
        "    # Remove stopwords\n",
        "    stop_words = set(stopwords.words('english'))\n",
        "    words = [word for word in words if word not in stop_words]\n",
        "    # Stemming\n",
        "    stemmer = PorterStemmer()\n",
        "    words = [stemmer.stem(word) for word in words]\n",
        "    return words"
      ],
      "metadata": {
        "id": "SDe-F6e0WLIr"
      },
      "execution_count": null,
      "outputs": []
    },
    {
      "cell_type": "markdown",
      "source": [
        "Train, Test and Vlidation Split"
      ],
      "metadata": {
        "id": "Se6_H6QblOlH"
      }
    },
    {
      "cell_type": "code",
      "source": [
        "from sklearn.model_selection import train_test_split\n",
        "x_train,x_test,y_train,y_test=train_test_split(data.review,data.sentiment,test_size=0.2,random_state=42)\n",
        "x_train,x_val,y_train,y_val=train_test_split(x_train,y_train,test_size=0.25,random_state=42)"
      ],
      "metadata": {
        "id": "t5t8zMEA4ITC"
      },
      "execution_count": null,
      "outputs": []
    },
    {
      "cell_type": "markdown",
      "source": [
        "**Generate Word Vocabulary**"
      ],
      "metadata": {
        "id": "6SAcx8S0lisX"
      }
    },
    {
      "cell_type": "code",
      "source": [
        "tokenized_text=x_train.apply(preprocess_text)"
      ],
      "metadata": {
        "id": "2XzuSE6098j7"
      },
      "execution_count": null,
      "outputs": []
    },
    {
      "cell_type": "code",
      "source": [
        "from collections import Counter\n",
        "# Flatten the list of tokens and count word frequency\n",
        "word_counts = Counter([word for comment in tokenized_text for word in comment])"
      ],
      "metadata": {
        "id": "nTRuqslWQpYO"
      },
      "execution_count": null,
      "outputs": []
    },
    {
      "cell_type": "code",
      "source": [
        "# Create a word-to-index dictionary\n",
        "word_vocab = {word: idx + 2 for idx, (word, _) in enumerate(word_counts.most_common())}\n",
        "word_vocab[\"<pad>\"] = 0  # Padding token\n",
        "word_vocab[\"<unk>\"] = 1  # Unknown token"
      ],
      "metadata": {
        "id": "RbxLdZoiSGJd"
      },
      "execution_count": null,
      "outputs": []
    },
    {
      "cell_type": "markdown",
      "source": [
        "Save the vocabulary to use later"
      ],
      "metadata": {
        "id": "SEQGxD_vlqzH"
      }
    },
    {
      "cell_type": "code",
      "source": [
        "import pickle\n",
        "\n",
        "with open(\"/content/drive/MyDrive/Projects/Sentiment_Analysis/word_vocab.pkl\", \"wb\") as f:\n",
        "    pickle.dump(word_vocab, f)\n"
      ],
      "metadata": {
        "id": "kz00_-Qesve6"
      },
      "execution_count": null,
      "outputs": []
    },
    {
      "cell_type": "code",
      "source": [
        "x_train = x_train.reset_index(drop=True)\n",
        "y_train = y_train.reset_index(drop=True)\n",
        "x_test = x_test.reset_index(drop=True)\n",
        "y_test = y_test.reset_index(drop=True)\n",
        "x_val = x_val.reset_index(drop=True)\n",
        "y_val = y_val.reset_index(drop=True)"
      ],
      "metadata": {
        "id": "3F-bRYf7IUWd"
      },
      "execution_count": null,
      "outputs": []
    },
    {
      "cell_type": "markdown",
      "source": [
        "Create Dataset Class"
      ],
      "metadata": {
        "id": "FohMc4ywmKwb"
      }
    },
    {
      "cell_type": "code",
      "source": [
        "import torch\n",
        "from torch.utils.data import Dataset, DataLoader\n",
        "# Define a custom dataset class\n",
        "class IMDBDataset(Dataset):\n",
        "\n",
        "\n",
        "\n",
        "    def __init__(self, text,label, vocab, max_length=300):\n",
        "        self.text = text\n",
        "        self.label = label\n",
        "        self.vocab = vocab\n",
        "        self.max_length = max_length\n",
        "\n",
        "    def __len__(self):\n",
        "        return len(self.text)\n",
        "\n",
        "    def __getitem__(self, idx):\n",
        "        text = self.text[idx]\n",
        "        label = self.label[idx]\n",
        "        # Convert label to tensor\n",
        "        label = 1 if label == 'positive' else 0\n",
        "        label_tensor = torch.tensor(label, dtype=torch.long)\n",
        "\n",
        "        # Preprocess and tokenize text\n",
        "        tokens = preprocess_text(text)\n",
        "        # Convert tokens to indices and pad/truncate\n",
        "        indices = [self.vocab.get(token, self.vocab[\"<unk>\"]) for token in tokens]\n",
        "        if len(indices) < self.max_length:\n",
        "            indices = indices + [self.vocab[\"<pad>\"]] * (self.max_length - len(indices))\n",
        "        else:\n",
        "            indices = indices[:self.max_length]\n",
        "\n",
        "        text_tensor = torch.tensor(indices, dtype=torch.long)\n",
        "        return text_tensor, label_tensor"
      ],
      "metadata": {
        "id": "amaTpf3WScU8"
      },
      "execution_count": null,
      "outputs": []
    },
    {
      "cell_type": "code",
      "source": [
        "# Create datasets and dataloaders\n",
        "train_dataset = IMDBDataset(x_train,y_train, word_vocab)\n",
        "test_dataset = IMDBDataset(x_test,y_test, word_vocab)\n",
        "val_dataset = IMDBDataset(x_val,y_val, word_vocab)\n",
        "\n",
        "batch_size = 32\n",
        "train_loader = DataLoader(train_dataset, batch_size=batch_size, shuffle=True)\n",
        "test_loader = DataLoader(test_dataset, batch_size=batch_size)\n",
        "val_loader = DataLoader(val_dataset, batch_size=batch_size)"
      ],
      "metadata": {
        "id": "JkZa_Fr5UHU5"
      },
      "execution_count": null,
      "outputs": []
    },
    {
      "cell_type": "code",
      "source": [],
      "metadata": {
        "id": "pP6RBRjYpDJJ"
      },
      "execution_count": null,
      "outputs": []
    },
    {
      "cell_type": "markdown",
      "source": [
        "LSTM-based Sentiment Analysis Model\n",
        "\n",
        "This model uses a Long Short-Term Memory (LSTM) network for sentiment classification.\n",
        "It processes tokenized text through an embedding layer followed by a bi-directional LSTM,\n",
        "and finally uses a fully connected layer to produce sentiment predictions.\n",
        "The model architecture: Embedding → Dropout → LSTM → Linear"
      ],
      "metadata": {
        "id": "2Yf-xGoDpi-K"
      }
    },
    {
      "cell_type": "code",
      "source": [
        "import torch\n",
        "import torch.nn as nn\n",
        "class LSTMSentimentModel(nn.Module):\n",
        "  def __init__(self,vocab_size):\n",
        "    super().__init__()\n",
        "    self.embedding=nn.Embedding(vocab_size,embedding_dim=128)\n",
        "    self.dropout = nn.Dropout(0.3)  # Dropout after embedding\n",
        "    self.lstm=nn.LSTM(input_size=128,hidden_size=128, num_layers=2,batch_first=True)\n",
        "    self.fc=nn.Linear(128,1)\n",
        "\n",
        "\n",
        "  def forward(self, x ):\n",
        "    embedded=self.embedding(x)\n",
        "    embedded = self.dropout(embedded)  # Apply dropout\n",
        "    inter_ht_states,(final_ht,final_ct)=self.lstm(embedded)\n",
        "    output=self.fc(final_ht[-1])\n",
        "    return output\n",
        "\n"
      ],
      "metadata": {
        "id": "pvvbqZSNU6fb"
      },
      "execution_count": null,
      "outputs": []
    },
    {
      "cell_type": "code",
      "source": [
        "model=LSTMSentimentModel(len(word_vocab))"
      ],
      "metadata": {
        "id": "OFSCKVxa24jb"
      },
      "execution_count": null,
      "outputs": []
    },
    {
      "cell_type": "code",
      "source": [
        "#move model to GPU if available\n",
        "model.to(device)"
      ],
      "metadata": {
        "colab": {
          "base_uri": "https://localhost:8080/"
        },
        "id": "8VjE8kHt8crE",
        "outputId": "e1b6006e-76a4-4b5b-95f6-9b5fb8b6619c"
      },
      "execution_count": null,
      "outputs": [
        {
          "output_type": "execute_result",
          "data": {
            "text/plain": [
              "LSTMSentimentModel(\n",
              "  (embedding): Embedding(123715, 128)\n",
              "  (dropout): Dropout(p=0.3, inplace=False)\n",
              "  (lstm): LSTM(128, 128, num_layers=2, batch_first=True)\n",
              "  (fc): Linear(in_features=128, out_features=1, bias=True)\n",
              ")"
            ]
          },
          "metadata": {},
          "execution_count": 20
        }
      ]
    },
    {
      "cell_type": "code",
      "source": [
        "epochs=20\n",
        "learning_rate=0.001\n",
        "\n",
        "criterion=nn.BCEWithLogitsLoss()\n",
        "optimizer=torch.optim.Adam(model.parameters(),lr=learning_rate)"
      ],
      "metadata": {
        "id": "ZqgyeIfG8laD"
      },
      "execution_count": null,
      "outputs": []
    },
    {
      "cell_type": "markdown",
      "source": [
        "Model Training Loop with Early Stopping"
      ],
      "metadata": {
        "id": "DkwnY8koonBs"
      }
    },
    {
      "cell_type": "code",
      "source": [
        "# Initialize lists to track metrics\n",
        "train_losses = []\n",
        "train_accuracies = []\n",
        "val_losses = []\n",
        "val_accuracies = []\n",
        "best_val_acc=0.0\n",
        "epochs_without_improvement = 0\n",
        "patience=3\n",
        "best_val_loss = float('inf')\n",
        "\n",
        "for epoch in range(epochs):\n",
        "    model.train()  # Set the model to training mode\n",
        "    running_train_loss = 0.0\n",
        "    correct_train = 0\n",
        "    total_train = 0\n",
        "\n",
        "    for batch_x, batch_y in train_loader:\n",
        "        batch_x, batch_y = batch_x.to(device), batch_y.to(device)\n",
        "        optimizer.zero_grad()\n",
        "        output = model(batch_x)\n",
        "\n",
        "        loss = criterion(output.squeeze(), batch_y.float())\n",
        "        loss.backward()\n",
        "        optimizer.step()\n",
        "\n",
        "        # Track training loss\n",
        "        running_train_loss += loss.item()\n",
        "\n",
        "        # Calculate training accuracy\n",
        "        predictions = torch.sigmoid(output).squeeze() >= 0.5\n",
        "        correct_train += (predictions == batch_y).sum().item()\n",
        "        total_train += batch_y.size(0)\n",
        "\n",
        "    # Training stats for this epoch\n",
        "    avg_train_loss = running_train_loss / len(train_loader)\n",
        "    train_acc = correct_train / total_train\n",
        "    train_losses.append(avg_train_loss)\n",
        "    train_accuracies.append(train_acc)\n",
        "\n",
        "\n",
        "    # Validation Phase\n",
        "\n",
        "    model.eval()\n",
        "    running_val_loss = 0.0\n",
        "    correct_val = 0\n",
        "    total_val = 0\n",
        "\n",
        "    with torch.no_grad():\n",
        "        for val_x, val_y in val_loader:\n",
        "            val_x, val_y = val_x.to(device), val_y.to(device)\n",
        "            val_output = model(val_x)\n",
        "\n",
        "            val_loss = criterion(val_output.squeeze(), val_y.float())\n",
        "            running_val_loss += val_loss.item()\n",
        "\n",
        "            val_preds = torch.sigmoid(val_output).squeeze() >= 0.5\n",
        "            correct_val += (val_preds == val_y).sum().item()\n",
        "            total_val += val_y.size(0)\n",
        "\n",
        "    # Validation stats\n",
        "    avg_val_loss = running_val_loss / len(val_loader)\n",
        "    val_acc = correct_val / total_val\n",
        "    val_losses.append(avg_val_loss)\n",
        "    val_accuracies.append(val_acc)\n",
        "\n",
        "    # After Epoch loop:\n",
        "    if avg_val_loss > best_val_loss:\n",
        "        epochs_without_improvement += 1\n",
        "    else:\n",
        "        torch.save(model.state_dict(), '/content/drive/MyDrive/Projects/Sentiment_Analysis/best_model.pt')\n",
        "        epochs_without_improvement = 0\n",
        "        best_val_loss = avg_val_loss\n",
        "\n",
        "    if epochs_without_improvement >= patience:\n",
        "      print(\"Early stopping triggered. No improvement in validation loss for {} epochs.\".format(patience))\n",
        "      break\n",
        "\n",
        "\n",
        "    print(f\"Epoch {epoch+1}/{epochs} | \"\n",
        "          f\"Train Loss: {avg_train_loss:.4f} | Train Acc: {train_acc:.4f} | \"\n",
        "          f\"Val Loss: {avg_val_loss:.4f} | Val Acc: {val_acc:.4f}\")\n"
      ],
      "metadata": {
        "colab": {
          "base_uri": "https://localhost:8080/"
        },
        "id": "780HXY6w846S",
        "outputId": "1d9b3d89-3012-4ff8-be19-87b82c62048e"
      },
      "execution_count": null,
      "outputs": [
        {
          "output_type": "stream",
          "name": "stdout",
          "text": [
            "Epoch 1/20 | Train Loss: 0.6934 | Train Acc: 0.5035 | Val Loss: 0.6928 | Val Acc: 0.5063\n",
            "Epoch 2/20 | Train Loss: 0.6677 | Train Acc: 0.5756 | Val Loss: 0.6855 | Val Acc: 0.5198\n",
            "Epoch 3/20 | Train Loss: 0.6638 | Train Acc: 0.5712 | Val Loss: 0.6385 | Val Acc: 0.6234\n",
            "Epoch 4/20 | Train Loss: 0.6437 | Train Acc: 0.6219 | Val Loss: 0.6055 | Val Acc: 0.7033\n",
            "Epoch 5/20 | Train Loss: 0.6470 | Train Acc: 0.5848 | Val Loss: 0.6678 | Val Acc: 0.5683\n",
            "Epoch 6/20 | Train Loss: 0.5102 | Train Acc: 0.7561 | Val Loss: 0.4703 | Val Acc: 0.8175\n",
            "Epoch 7/20 | Train Loss: 0.3712 | Train Acc: 0.8457 | Val Loss: 0.3656 | Val Acc: 0.8498\n",
            "Epoch 8/20 | Train Loss: 0.3006 | Train Acc: 0.8817 | Val Loss: 0.3676 | Val Acc: 0.8587\n",
            "Epoch 9/20 | Train Loss: 0.2519 | Train Acc: 0.9051 | Val Loss: 0.5018 | Val Acc: 0.8309\n",
            "Epoch 10/20 | Train Loss: 0.2224 | Train Acc: 0.9172 | Val Loss: 0.3577 | Val Acc: 0.8600\n",
            "Epoch 11/20 | Train Loss: 0.1928 | Train Acc: 0.9310 | Val Loss: 0.3294 | Val Acc: 0.8753\n",
            "Epoch 12/20 | Train Loss: 0.1644 | Train Acc: 0.9419 | Val Loss: 0.3465 | Val Acc: 0.8783\n",
            "Epoch 13/20 | Train Loss: 0.1447 | Train Acc: 0.9504 | Val Loss: 0.3893 | Val Acc: 0.8657\n",
            "Early stopping triggered. No improvement in validation loss for 3 epochs.\n"
          ]
        }
      ]
    },
    {
      "cell_type": "code",
      "source": [
        "torch.save(model, '/content/drive/MyDrive/Projects/Sentiment_Analysis/best_full_model.pt')"
      ],
      "metadata": {
        "id": "nkMd1PhHYaZx"
      },
      "execution_count": null,
      "outputs": []
    },
    {
      "cell_type": "markdown",
      "source": [
        "Visualize Model's performance on training and validation data"
      ],
      "metadata": {
        "id": "ffZDe1gmrKLd"
      }
    },
    {
      "cell_type": "code",
      "source": [
        "import matplotlib.pyplot as plt\n",
        "\n",
        "epochs_range = range(1, len(train_losses) + 1)\n",
        "\n",
        "plt.plot(epochs_range, train_losses, label='Training Loss')\n",
        "plt.plot(epochs_range, val_losses, label='Validation Loss')\n",
        "plt.xlabel(\"Epoch\")\n",
        "plt.ylabel(\"Loss\")\n",
        "plt.title(\"Loss Over Epochs\")\n",
        "plt.legend()\n",
        "plt.show()\n",
        "\n",
        "plt.plot(epochs_range, train_accuracies, label='Training Accuracy')\n",
        "plt.plot(epochs_range, val_accuracies, label='Validation Accuracy')\n",
        "plt.xlabel(\"Epoch\")\n",
        "plt.ylabel(\"Accuracy\")\n",
        "plt.title(\"Accuracy Over Epochs\")\n",
        "plt.legend()\n",
        "plt.show()\n"
      ],
      "metadata": {
        "colab": {
          "base_uri": "https://localhost:8080/",
          "height": 927
        },
        "id": "ue-6gCUi-WQo",
        "outputId": "e5cd0ba3-c804-40ed-b4bd-bd824a3b4d9a"
      },
      "execution_count": null,
      "outputs": [
        {
          "output_type": "display_data",
          "data": {
            "text/plain": [
              "<Figure size 640x480 with 1 Axes>"
            ],
            "image/png": "[encoded data removed]"
          },
          "metadata": {}
        },
        {
          "output_type": "display_data",
          "data": {
            "text/plain": [
              "<Figure size 640x480 with 1 Axes>"
            ],
            "image/png": "[encoded data removed]"
          },
          "metadata": {}
        }
      ]
    },
    {
      "cell_type": "markdown",
      "source": [
        "Run model on test data and evaluate the metrics"
      ],
      "metadata": {
        "id": "RCuClepZrhIh"
      }
    },
    {
      "cell_type": "code",
      "source": [
        "import torch\n",
        "from sklearn.metrics import accuracy_score, precision_score, recall_score, f1_score"
      ],
      "metadata": {
        "id": "0vN-435Fl6Bp"
      },
      "execution_count": null,
      "outputs": []
    },
    {
      "cell_type": "code",
      "source": [
        "model = LSTMSentimentModel(len(word_vocab))  # Create the model instance\n",
        "model.load_state_dict(torch.load('/content/drive/MyDrive/Projects/Sentiment_Analysis/best_model.pt'))  # Load saved weights\n",
        "model.eval()\n",
        "\n",
        "running_test_loss = 0.0\n",
        "correct_test = 0\n",
        "total_test = 0"
      ],
      "metadata": {
        "id": "M7kT5CwSl6N5"
      },
      "execution_count": null,
      "outputs": []
    },
    {
      "cell_type": "code",
      "source": [
        "# 2. Testing the model\n",
        "all_preds = []  # List to store predictions\n",
        "all_labels = []  # List to store true labels"
      ],
      "metadata": {
        "id": "SxzvM1tfmEt5"
      },
      "execution_count": null,
      "outputs": []
    },
    {
      "cell_type": "code",
      "source": [
        "with torch.no_grad():  # We don't need gradients for testing\n",
        "    for batch_x_test, batch_y_test in test_loader:\n",
        "        # 3. Forward pass\n",
        "        output_test = model(batch_x_test)\n",
        "\n",
        "        # 4. Apply a sigmoid to get probability and classify\n",
        "        predictions = torch.sigmoid(output_test).squeeze()  # Convert logits to probabilities\n",
        "\n",
        "        # Convert predictions to binary labels (0 or 1)\n",
        "        predicted_labels = (predictions > 0.5).long()  # 0.5 threshold for binary classification\n",
        "\n",
        "        # Store the predictions and true labels\n",
        "        all_preds.extend(predicted_labels.cpu().numpy())  # Move to CPU and convert to numpy\n",
        "        all_labels.extend(batch_y_test.cpu().numpy())  # True labels"
      ],
      "metadata": {
        "id": "ygCUfh0AmJR5"
      },
      "execution_count": null,
      "outputs": []
    },
    {
      "cell_type": "code",
      "source": [
        "accuracy = accuracy_score(all_labels, all_preds)\n",
        "precision = precision_score(all_labels, all_preds)\n",
        "recall = recall_score(all_labels, all_preds)\n",
        "f1 = f1_score(all_labels, all_preds)"
      ],
      "metadata": {
        "id": "2ozQP2oCn3IQ"
      },
      "execution_count": null,
      "outputs": []
    },
    {
      "cell_type": "code",
      "source": [
        "print(f\"Accuracy: {accuracy:.4f}\")\n",
        "print(f\"Precision: {precision:.4f}\")\n",
        "print(f\"Recall: {recall:.4f}\")\n",
        "print(f\"F1 Score: {f1:.4f}\")"
      ],
      "metadata": {
        "colab": {
          "base_uri": "https://localhost:8080/"
        },
        "id": "XtFHo9Ukn5C4",
        "outputId": "9342062f-78d4-41c8-a231-aa56e3eb2fe1"
      },
      "execution_count": null,
      "outputs": [
        {
          "output_type": "stream",
          "name": "stdout",
          "text": [
            "Accuracy: 0.8653\n",
            "Precision: 0.8500\n",
            "Recall: 0.8897\n",
            "F1 Score: 0.8694\n"
          ]
        }
      ]
    },
    {
      "cell_type": "code",
      "source": [
        "import matplotlib.pyplot as plt\n",
        "import seaborn as sns\n",
        "from sklearn.metrics import confusion_matrix\n",
        "\n",
        "# Assuming you have all true labels (true_labels) and predicted labels (pred_labels)\n",
        "cm = confusion_matrix(all_labels, all_preds)\n",
        "\n",
        "plt.figure(figsize=(5, 5))\n",
        "sns.heatmap(cm, annot=True, fmt=\"d\", cmap=\"Blues\", xticklabels=['Negative', 'Positive'], yticklabels=['Negative', 'Positive'])\n",
        "plt.xlabel('Predicted Labels')\n",
        "plt.ylabel('True Labels')\n",
        "plt.title('Confusion Matrix')\n",
        "plt.show()"
      ],
      "metadata": {
        "colab": {
          "base_uri": "https://localhost:8080/",
          "height": 487
        },
        "id": "W8nVnfgen7v3",
        "outputId": "d5e50106-1bc5-422e-baf7-86e52ab3fc0e"
      },
      "execution_count": null,
      "outputs": [
        {
          "output_type": "display_data",
          "data": {
            "text/plain": [
              "<Figure size 500x500 with 2 Axes>"
            ],
            "image/png": "[encoded data removed]"
          },
          "metadata": {}
        }
      ]
    },
    {
      "cell_type": "markdown",
      "source": [
        "Perform Prediction operation"
      ],
      "metadata": {
        "id": "O9ZMaXjRrln4"
      }
    },
    {
      "cell_type": "code",
      "source": [
        "def predict_sentiment(text, model, vocab, max_length=300, device='cpu'):\n",
        "    model.eval()  # Set model to evaluation mode\n",
        "\n",
        "    # Preprocess the input text\n",
        "    tokens = preprocess_text(text)\n",
        "    indices = [vocab.get(token, vocab.get(\"<unk>\", 0)) for token in tokens]\n",
        "\n",
        "    # Pad or truncate\n",
        "    if len(indices) < max_length:\n",
        "        indices += [vocab[\"<pad>\"]] * (max_length - len(indices))\n",
        "    else:\n",
        "        indices = indices[:max_length]\n",
        "\n",
        "    # Convert to tensor\n",
        "    input_tensor = torch.tensor(indices, dtype=torch.long).unsqueeze(0).to(device)  # shape: [1, max_length]\n",
        "\n",
        "    # Get model output\n",
        "    with torch.no_grad():\n",
        "        output = model(input_tensor)\n",
        "        prediction = torch.sigmoid(output).item()  # Convert logits to probability\n",
        "\n",
        "    # Convert probability to label\n",
        "    sentiment = \"Positive\" if prediction >= 0.5 else \"Negative\"\n",
        "    return sentiment, prediction\n"
      ],
      "metadata": {
        "id": "wG3HYTxdocAn"
      },
      "execution_count": null,
      "outputs": []
    },
    {
      "cell_type": "code",
      "source": [
        "predict_sentiment(\"I just want to keep the review shortest as possible because the heavy headache after watching this outrageously stupid movie ain't stepping out! \",model,word_vocab)"
      ],
      "metadata": {
        "colab": {
          "base_uri": "https://localhost:8080/"
        },
        "id": "C1oTLt7CSfks",
        "outputId": "0c84293b-cc87-4fc5-9b78-6aa88e2cb8f2"
      },
      "execution_count": null,
      "outputs": [
        {
          "output_type": "execute_result",
          "data": {
            "text/plain": [
              "('Negative', 0.026987524703145027)"
            ]
          },
          "metadata": {},
          "execution_count": 83
        }
      ]
    },
    {
      "cell_type": "code",
      "source": [],
      "metadata": {
        "id": "ZmdLUzauS_-R"
      },
      "execution_count": null,
      "outputs": []
    }
  ]
}